{
  "nbformat": 4,
  "nbformat_minor": 0,
  "metadata": {
    "colab": {
      "provenance": [],
      "authorship_tag": "ABX9TyMfsFN44efp7rBPSrwDQgpO",
      "include_colab_link": true
    },
    "kernelspec": {
      "name": "python3",
      "display_name": "Python 3"
    },
    "language_info": {
      "name": "python"
    }
  },
  "cells": [
    {
      "cell_type": "markdown",
      "metadata": {
        "id": "view-in-github",
        "colab_type": "text"
      },
      "source": [
        "<a href=\"https://colab.research.google.com/github/LakshmiAhala/MachineLearning/blob/main/ML_Assign1.ipynb\" target=\"_parent\"><img src=\"https://colab.research.google.com/assets/colab-badge.svg\" alt=\"Open In Colab\"/></a>"
      ]
    },
    {
      "cell_type": "code",
      "source": [
        "#@title Euclidean Distance\n",
        "\n",
        "def euclidean_distance(x, y):\n",
        "    \"\"\"\n",
        "    Return the Euclidean (L2) distance between numeric vectors x and y.\n",
        "    Requirements: x and y are sequences (list/tuple) of equal length and numeric.\n",
        "    Must not import external libraries.\n",
        "    \"\"\"\n",
        "\n",
        "    # Checking if the length of both the lists/tuples are the same\n",
        "    # And raising a ValueError if not\n",
        "    if len(x) != len(y):\n",
        "        raise ValueError(\"Vectors must have the same length.\")\n",
        "\n",
        "    # Calculating the squared differences and sum them up using a simple loop\n",
        "    sum_sq_diff = 0\n",
        "    for i in range(len(x)):\n",
        "        sum_sq_diff += (x[i] - y[i])**2\n",
        "\n",
        "    # Returning the square root of the sum of squared differences\n",
        "    return sum_sq_diff**0.5\n",
        "\n",
        "# Euclidean Test\n",
        "\n",
        "def approx_equal(a, b, tol=1e-9):\n",
        "    return (a - b if a >= b else b - a) <= tol\n",
        "\n",
        "assert approx_equal(euclidean_distance([0, 0], [3, 4]), 5.0)\n",
        "assert approx_equal(euclidean_distance([1, 2, 3], [1, 2, 3]), 0.0)\n",
        "assert approx_equal(euclidean_distance([2], [5]), 3.0)"
      ],
      "metadata": {
        "id": "bhpYtqJOy8l9"
      },
      "execution_count": 23,
      "outputs": []
    },
    {
      "cell_type": "code",
      "source": [
        "#@title Manhattan Distance\n",
        "\n",
        "def manhattan_distance(x, y):\n",
        "    \"\"\"\n",
        "    Return the Manhattan (L1) distance between numeric vectors x and y.\n",
        "    Requirements: x and y are sequences (list/tuple) of equal length and numeric.\n",
        "    \"\"\"\n",
        "\n",
        "    # Checking if the length of both the lists/tuples are the same\n",
        "    # And raising a ValueError if not\n",
        "    if len(x) != len(y):\n",
        "        raise ValueError(\"Vectors must have the same length.\")\n",
        "\n",
        "    # Calculating the sum of absolute differences using a simple loop\n",
        "    abs_diff = 0\n",
        "    for i in range(len(x)):\n",
        "        abs_diff += abs(x[i] - y[i]) # Using abs() to get the absolute difference\n",
        "\n",
        "    # Returning the sum of absolute differences\n",
        "    return abs_diff\n",
        "\n",
        "# Manhattan test\n",
        "def approx_equal(a, b, tol=1e-9):\n",
        "    return (a - b if a >= b else b - a) <= tol\n",
        "\n",
        "assert manhattan_distance([0, 0], [3, 4]) == 7\n",
        "assert manhattan_distance([1, 2, 3], [1, 2, 3]) == 0\n",
        "assert manhattan_distance([2], [5]) == 3"
      ],
      "metadata": {
        "id": "_jqIH_hp-nqo"
      },
      "execution_count": 24,
      "outputs": []
    },
    {
      "cell_type": "code",
      "source": [
        "#@title Hamming Distance\n",
        "\n",
        "def hamming_distance(s1, s2):\n",
        "    \"\"\"\n",
        "    Return the Hamming distance between two equal-length strings s1 and s2.\n",
        "    Counts positions where the characters differ.\n",
        "    \"\"\"\n",
        "\n",
        "    # Checking if the length of the strings is the same\n",
        "    # And raising a ValueError if not\n",
        "    if len(s1) != len(s2):\n",
        "      raise ValueError(\"Strings must have the same length.\")\n",
        "\n",
        "    # Getting the sum of the number of different values using a simple loop\n",
        "    distance = 0\n",
        "    for i in range(len(s1)):\n",
        "        if s1[i] != s2[i]:\n",
        "            distance += 1\n",
        "    return distance\n",
        "\n",
        "# Hamming Test\n",
        "def approx_equal(a, b, tol=1e-9):\n",
        "    return (a - b if a >= b else b - a) <= tol\n",
        "\n",
        "assert hamming_distance(\"abcde\", \"abcde\") == 0\n",
        "assert hamming_distance(\"abcde\", \"abXde\") == 1\n",
        "assert hamming_distance(\"1011101\", \"1001001\") == 2  # different at positions 2 and 4 (0-based index)"
      ],
      "metadata": {
        "id": "4D-WE32t-ynU"
      },
      "execution_count": 25,
      "outputs": []
    },
    {
      "cell_type": "code",
      "source": [
        "#@title Test Cases\n",
        "\n",
        "# Basic sanity tests\n",
        "def approx_equal(a, b, tol=1e-9):\n",
        "    return (a - b if a >= b else b - a) <= tol\n",
        "\n",
        "# Euclidean\n",
        "assert approx_equal(euclidean_distance([0, 0], [3, 4]), 5.0)\n",
        "assert approx_equal(euclidean_distance([1, 2, 3], [1, 2, 3]), 0.0)\n",
        "assert approx_equal(euclidean_distance([2], [5]), 3.0)\n",
        "\n",
        "# Manhattan\n",
        "assert manhattan_distance([0, 0], [3, 4]) == 7\n",
        "assert manhattan_distance([1, 2, 3], [1, 2, 3]) == 0\n",
        "assert manhattan_distance([2], [5]) == 3\n",
        "\n",
        "# Hamming\n",
        "assert hamming_distance(\"abcde\", \"abcde\") == 0\n",
        "assert hamming_distance(\"abcde\", \"abXde\") == 1\n",
        "assert hamming_distance(\"1011101\", \"1001001\") == 2  # different at positions 2 and 4 (0-based index)\n",
        "\n",
        "print(\"All basic tests passed! ✅\")"
      ],
      "metadata": {
        "id": "RZ_dS9bQOZWs",
        "colab": {
          "base_uri": "https://localhost:8080/"
        },
        "outputId": "30993803-a58c-411e-bd08-7972ef3b57f2"
      },
      "execution_count": 26,
      "outputs": [
        {
          "output_type": "stream",
          "name": "stdout",
          "text": [
            "All basic tests passed! ✅\n"
          ]
        }
      ]
    },
    {
      "cell_type": "code",
      "source": [
        "#@title Sample Usage\n",
        "\n",
        "x1 = [1, 2, 3]\n",
        "x2 = [4, 6, 3]\n",
        "print(\"Euclidean:\", euclidean_distance(x1, x2))\n",
        "print(\"Manhattan:\", manhattan_distance(x1, x2))\n",
        "print(\"Hamming  (strings):\", hamming_distance(\"kitten\", \"sitten\"))\n"
      ],
      "metadata": {
        "id": "5KV2P5-eOhV0",
        "colab": {
          "base_uri": "https://localhost:8080/"
        },
        "outputId": "bea70e0d-74f9-4e5a-89ed-398fdda779c7"
      },
      "execution_count": 27,
      "outputs": [
        {
          "output_type": "stream",
          "name": "stdout",
          "text": [
            "Euclidean: 5.0\n",
            "Manhattan: 7\n",
            "Hamming  (strings): 1\n"
          ]
        }
      ]
    }
  ]
}