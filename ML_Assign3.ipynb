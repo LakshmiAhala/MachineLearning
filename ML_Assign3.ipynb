{
  "nbformat": 4,
  "nbformat_minor": 0,
  "metadata": {
    "colab": {
      "provenance": [],
      "authorship_tag": "ABX9TyMwCGNTB9TaWohfDckw80iM",
      "include_colab_link": true
    },
    "kernelspec": {
      "name": "python3",
      "display_name": "Python 3"
    },
    "language_info": {
      "name": "python"
    }
  },
  "cells": [
    {
      "cell_type": "markdown",
      "metadata": {
        "id": "view-in-github",
        "colab_type": "text"
      },
      "source": [
        "<a href=\"https://colab.research.google.com/github/LakshmiAhala/MachineLearning/blob/main/ML_Assign3.ipynb\" target=\"_parent\"><img src=\"https://colab.research.google.com/assets/colab-badge.svg\" alt=\"Open In Colab\"/></a>"
      ]
    },
    {
      "cell_type": "markdown",
      "source": [
        "# Part 1"
      ],
      "metadata": {
        "id": "4rM4qRVCZAps"
      }
    },
    {
      "cell_type": "markdown",
      "source": [
        "### RMSE Calculation by hand (1.1)\n",
        "\n",
        "**Given data:**\n",
        "- Actual values = [10, 20, 30]  \n",
        "- Predicted values = [12, 18, 32]\n",
        "\n",
        "**Step 1:** Calculate errors (Actual - Predicted)  \n",
        "= [10 - 12, 20 - 18, 30 - 32]  \n",
        "= [-2, 2, -2]\n",
        "\n",
        "**Step 2:** Square each error  \n",
        "= [4,4,4]\n",
        "\n",
        "**Step 3:** Find the mean of the squared errors  \n",
        "= [4+4+4/3]\n",
        "= [4]\n",
        "\n",
        "**Step 4:** Take the square root of the mean squared error\n",
        "=  √(4)\n",
        "\n",
        "**RMSE = √(mean squared error) = 2**"
      ],
      "metadata": {
        "id": "KPPWhNMqYZNc"
      }
    },
    {
      "cell_type": "code",
      "source": [
        "#@title Verification (1.2)\n",
        "\n",
        "import math  # Only for math.sqrt()\n",
        "\n",
        "# Simple example data\n",
        "actual = [10, 20, 30]\n",
        "predicted = [12, 18, 32]\n",
        "\n",
        "# TODO: Calculate RMSE step by step\n",
        "# Step 1: Calculate errors (actual - predicted)\n",
        "errors = []\n",
        "errors.append(actual[0] - predicted[0])\n",
        "errors.append(actual[1] - predicted[1])\n",
        "errors.append(actual[2] - predicted[2])\n",
        "\n",
        "# Step 2: Square each error\n",
        "squared_errors = []\n",
        "squared_errors.append(errors[0] ** 2)\n",
        "squared_errors.append(errors[1] ** 2)\n",
        "squared_errors.append(errors[2] ** 2)\n",
        "\n",
        "# Step 3: Calculate mean of squared errors\n",
        "mean_squared_error = sum(squared_errors)/3\n",
        "\n",
        "# Step 4: Take square root\n",
        "rmse = math.sqrt(mean_squared_error)\n",
        "\n",
        "print(f\"RMSE = {rmse}\")"
      ],
      "metadata": {
        "colab": {
          "base_uri": "https://localhost:8080/"
        },
        "id": "nlidLTfyfaMX",
        "outputId": "02b589c5-3cf4-4ce5-f157-c1727fc1db14"
      },
      "execution_count": 9,
      "outputs": [
        {
          "output_type": "stream",
          "name": "stdout",
          "text": [
            "RMSE = 2.0\n"
          ]
        }
      ]
    },
    {
      "cell_type": "markdown",
      "source": [
        "# Part 2"
      ],
      "metadata": {
        "id": "LWQ5ARgQhT-t"
      }
    },
    {
      "cell_type": "code",
      "source": [
        "#@title Implementing RMSE calculation (2.1)\n",
        "\n",
        "def calculate_rmse(actual, predicted):\n",
        "    if len(actual) != len(predicted):\n",
        "        raise ValueError(\"The length of actual and predicted must be the same.\")\n",
        "\n",
        "    len_of_values = len(actual)\n",
        "    if len_of_values == 0:\n",
        "        return 0.0  # Handling empty lists\n",
        "\n",
        "    sum_of_squared_errors = 0\n",
        "    for i in range(len_of_values):\n",
        "        error = actual[i] - predicted[i]\n",
        "        sum_of_squared_errors += error ** 2\n",
        "\n",
        "    mean_squared_error = sum_of_squared_errors / len_of_values\n",
        "    rmse = mean_squared_error ** 0.5\n",
        "    return rmse\n",
        "\n",
        "# Test your function with the simple example 1\n",
        "test_actual = [10, 20, 30]\n",
        "test_predicted = [12, 18, 32]\n",
        "test_rmse = calculate_rmse(test_actual, test_predicted)\n",
        "print(f\"Test RMSE: {test_rmse}\")\n",
        "print(\"If this matches your earlier calculation, your function works!\")\n",
        "\n",
        "# Test your function with the simple example 2\n",
        "test_actual_2 = [100, 200, 300, 400]\n",
        "test_predicted_2 = [110, 190, 310, 390]\n",
        "test_rmse_2 = calculate_rmse(test_actual_2, test_predicted_2)\n",
        "print(f\"Test RMSE: {test_rmse_2}\")\n",
        "\n",
        "\"\"\"\n",
        "The RMSE value means: the amount by which your model's predictions are off from the actual values\n",
        "Lower the RMSE value, better the predictions of the model.\n",
        "\"\"\"\n",
        "\n",
        "\n",
        "\n",
        "\n",
        "# Given Data\n",
        "actual = [250, 300, 180, 420, 275, 350, 195, 410, 285, 320,\n",
        "          230, 380, 265, 295, 340, 215, 390, 270, 310, 360]\n",
        "predicted_a = [245, 305, 175, 415, 280, 345, 200, 405, 290, 315,\n",
        "               235, 375, 270, 300, 335, 220, 385, 275, 305, 355]\n",
        "predicted_b = [260, 310, 195, 400, 265, 370, 185, 430, 275, 340,\n",
        "               220, 395, 255, 285, 360, 205, 410, 260, 325, 380]\n",
        "predicted_c = [248, 295, 182, 425, 273, 348, 198, 408, 287, 318,\n",
        "               232, 378, 267, 293, 338, 217, 388, 272, 308, 358]\n",
        "\n",
        "# Store models in a dictionary\n",
        "models = {\n",
        "    'Model A': predicted_a,\n",
        "    'Model B': predicted_b,\n",
        "    'Model C': predicted_c\n",
        "}\n",
        "\n",
        "# Calculate RMSE for each model\n",
        "rmse_scores = {}\n",
        "for model_name, predictions in models.items():\n",
        "    rmse_scores[model_name] = calculate_rmse(actual, predictions)\n",
        "    print(f\"{model_name}: {rmse_scores[model_name]}\")\n",
        "\n",
        "# Find the best model\n",
        "best_model_name = min(rmse_scores, key=rmse_scores.get)\n",
        "best_rmse = rmse_scores[best_model_name]\n",
        "\n",
        "# Confining the output to 4 decimal places\n",
        "print(f'\\nThe best model is: {best_model_name} with RMSE = {best_rmse:.4f}')"
      ],
      "metadata": {
        "colab": {
          "base_uri": "https://localhost:8080/"
        },
        "id": "Fpb7t7gCNM0H",
        "outputId": "63fc41c4-00c4-4235-9440-1b3b7b4d9736"
      },
      "execution_count": 12,
      "outputs": [
        {
          "output_type": "stream",
          "name": "stdout",
          "text": [
            "Test RMSE: 2.0\n",
            "If this matches your earlier calculation, your function works!\n",
            "Test RMSE: 10.0\n",
            "Model A: 5.0\n",
            "Model B: 14.958275301651591\n",
            "Model C: 2.5199206336708304\n",
            "\n",
            "The best model is: Model C with RMSE = 2.5199\n"
          ]
        }
      ]
    },
    {
      "cell_type": "markdown",
      "source": [
        "# Part 3"
      ],
      "metadata": {
        "id": "PrHDOLtEj5ql"
      }
    },
    {
      "cell_type": "code",
      "source": [
        "#@title House Prices RMSE (3.1)\n",
        "\n",
        "def calculate_rmse(actual, predicted):\n",
        "    if len(actual) != len(predicted):\n",
        "        raise ValueError(\"The length of actual and predicted must be the same.\")\n",
        "\n",
        "    len_of_values = len(actual)\n",
        "    if len_of_values == 0:\n",
        "        return 0.0  # Handling empty lists\n",
        "\n",
        "    sum_of_squared_errors = 0\n",
        "    for i in range(len_of_values):\n",
        "        error = actual[i] - predicted[i]\n",
        "        sum_of_squared_errors += error ** 2\n",
        "\n",
        "    mean_squared_error = sum_of_squared_errors / len_of_values\n",
        "    rmse = mean_squared_error ** 0.5\n",
        "    return rmse\n",
        "\n",
        "# Given Data\n",
        "actual = [250, 300, 180, 420, 275, 350, 195, 410, 285, 320,\n",
        "          230, 380, 265, 295, 340, 215, 390, 270, 310, 360]\n",
        "predicted_a = [245, 305, 175, 415, 280, 345, 200, 405, 290, 315,\n",
        "               235, 375, 270, 300, 335, 220, 385, 275, 305, 355]\n",
        "predicted_b = [260, 310, 195, 400, 265, 370, 185, 430, 275, 340,\n",
        "               220, 395, 255, 285, 360, 205, 410, 260, 325, 380]\n",
        "predicted_c = [248, 295, 182, 425, 273, 348, 198, 408, 287, 318,\n",
        "               232, 378, 267, 293, 338, 217, 388, 272, 308, 358]\n",
        "\n",
        "# Storing models in a dictionary\n",
        "models = {\n",
        "    'Model A': predicted_a,\n",
        "    'Model B': predicted_b,\n",
        "    'Model C': predicted_c\n",
        "}\n",
        "\n",
        "# Calculating RMSE for each model\n",
        "rmse_scores = {}\n",
        "for model_name, predictions in models.items():\n",
        "    rmse_scores[model_name] = calculate_rmse(actual, predictions)\n",
        "    print(f\"{model_name}: {rmse_scores[model_name]:.4}\")\n"
      ],
      "metadata": {
        "colab": {
          "base_uri": "https://localhost:8080/"
        },
        "id": "o2XnVtPIjpMY",
        "outputId": "1155cae7-a74b-4a7c-979d-2ea83ad784cf"
      },
      "execution_count": 18,
      "outputs": [
        {
          "output_type": "stream",
          "name": "stdout",
          "text": [
            "Model A: 5.0\n",
            "Model B: 14.96\n",
            "Model C: 2.52\n"
          ]
        }
      ]
    },
    {
      "cell_type": "code",
      "source": [
        "#@title Which is the best? (3.2)\n",
        "\n",
        "# Finding the best model\n",
        "best_model = min(rmse_scores, key=rmse_scores.get)\n",
        "best_rmse = rmse_scores[best_model]\n",
        "worst_model = max(rmse_scores, key=rmse_scores.get)\n",
        "worst_rmse = rmse_scores[worst_model]\n",
        "\n",
        "# Confining the output to 4 decimal places\n",
        "print(f'The best model is: {best_model} with RMSE = {best_rmse:.4f}')\n",
        "print(f'The worst model is: {worst_model} with RMSE = {worst_rmse:.4f}')"
      ],
      "metadata": {
        "colab": {
          "base_uri": "https://localhost:8080/"
        },
        "id": "ZCOMdhXdj2HZ",
        "outputId": "685a2678-84f5-46d6-b860-20ba300df6b2"
      },
      "execution_count": 16,
      "outputs": [
        {
          "output_type": "stream",
          "name": "stdout",
          "text": [
            "The best model is: Model C with RMSE = 2.5199\n",
            "The worst model is: Model B with RMSE = 14.9583\n"
          ]
        }
      ]
    },
    {
      "cell_type": "markdown",
      "source": [
        "# Part 4"
      ],
      "metadata": {
        "id": "nSjt0__CkfXT"
      }
    },
    {
      "cell_type": "markdown",
      "source": [
        "### Analysis (4.1)\n",
        "\n",
        "**Which model performed best? Why?**\n",
        "- Model C performed the best with the least RMSE score. I think this is because it made the closest predictions to the actual value.\n",
        "\n",
        "**What does the RMSE value of the best model mean in practical terms (remember, prices are in thousands)**\n",
        "- An RMSE value of 2.5 indicates that the model prediction errors range around ±$2,500 which is wonderful considering we are looking at house prices\n",
        "- However, if we were looking at chocolate bar prices, this would be terrible!!\n",
        "\n",
        "**If you were a real estate company, would you use any of these models? Why or why not?**\n",
        "- The RMSE of Model A is only 2.5 which is truly excellent. I think I would use this model if I was a real estate company as the prices are quite reliable and close to the actual value.\n",
        "- However, I wouldnt go with Model C as a difference of almost ±$15,000 is quite major and isnt sustainable.\n",
        "\n",
        "\n",
        "\n",
        "\n",
        "\n"
      ],
      "metadata": {
        "id": "JGHPdcDPlvOg"
      }
    },
    {
      "cell_type": "code",
      "source": [
        "#@title Simple Visual (4.2)\n",
        "print(\"\\nRMSE COMPARISON (Text Bar Chart)\")\n",
        "print(\"=\"*50)\n",
        "\n",
        "# Defining models and their RMSE values\n",
        "models = {\n",
        "    \"Model A\": 5.0,\n",
        "    \"Model B\": 14.96,\n",
        "    \"Model C\": 2.52\n",
        "}\n",
        "\n",
        "# Finding the maximum RMSE for scaling\n",
        "max_rmse = max(models.values())\n",
        "\n",
        "# Printing each model with its bar\n",
        "for model_name, rmse in models.items():\n",
        "    # Calculating number of asterisks (each * represents ~1 unit of RMSE)\n",
        "    num_stars = int(round(rmse))\n",
        "    bar = \"*\" * num_stars\n",
        "\n",
        "    # Printing the model with its bar and RMSE value\n",
        "    print(f\"{model_name}: {bar} ({rmse})\")\n",
        "\n",
        "print(\"\\nNote: Each * represents approximately 1 unit of RMSE as the values are in decimals.\")"
      ],
      "metadata": {
        "colab": {
          "base_uri": "https://localhost:8080/"
        },
        "id": "ZzDEXgxbpbrk",
        "outputId": "75ab628b-460a-4b26-8930-df088c11e30f"
      },
      "execution_count": 22,
      "outputs": [
        {
          "output_type": "stream",
          "name": "stdout",
          "text": [
            "\n",
            "RMSE COMPARISON (Text Bar Chart)\n",
            "==================================================\n",
            "Model A: ***** (5.0)\n",
            "Model B: *************** (14.96)\n",
            "Model C: *** (2.52)\n",
            "\n",
            "Note: Each * represents approximately 1 unit of RMSE as the values are in decimals.\n"
          ]
        }
      ]
    }
  ]
}